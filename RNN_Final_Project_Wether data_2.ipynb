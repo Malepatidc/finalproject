{
 "cells": [
  {
   "cell_type": "code",
   "execution_count": 1,
   "id": "022cd4fd",
   "metadata": {},
   "outputs": [],
   "source": [
    "import pandas as pd\n",
    "import numpy as np\n",
    "%matplotlib inline\n",
    "import matplotlib.pyplot as plt"
   ]
  },
  {
   "cell_type": "code",
   "execution_count": 2,
   "id": "187f18f7",
   "metadata": {},
   "outputs": [],
   "source": [
    "from tensorflow.keras.models import Sequential\n",
    "from tensorflow.keras.layers import LSTM\n",
    "from tensorflow.keras.layers import Dropout\n",
    "from tensorflow.keras.layers import Dense\n",
    "from keras.layers import Dense"
   ]
  },
  {
   "cell_type": "code",
   "execution_count": 3,
   "id": "ad7492b7",
   "metadata": {},
   "outputs": [],
   "source": [
    "from tensorflow.keras.preprocessing.sequence import TimeseriesGenerator\n",
    "from sklearn.preprocessing import MinMaxScaler"
   ]
  },
  {
   "cell_type": "markdown",
   "id": "6adf71dc",
   "metadata": {},
   "source": [
    "### Weather Data set "
   ]
  },
  {
   "cell_type": "code",
   "execution_count": 4,
   "id": "406c2ded",
   "metadata": {},
   "outputs": [],
   "source": [
    "dir_path_dataset_1 = 'C:/Users/anand/Downloads/Weather report 2008 -2010.csv'\n"
   ]
  },
  {
   "cell_type": "markdown",
   "id": "f79f9e81",
   "metadata": {},
   "source": [
    "### Load Dataset"
   ]
  },
  {
   "cell_type": "code",
   "execution_count": 5,
   "id": "39b05935",
   "metadata": {
    "scrolled": true
   },
   "outputs": [],
   "source": [
    "df_ALL = pd.read_csv('C:/Users/anand/Downloads/Weather report 2008 -2010.csv')\n"
   ]
  },
  {
   "cell_type": "code",
   "execution_count": 6,
   "id": "192fe8c0",
   "metadata": {},
   "outputs": [
    {
     "data": {
      "text/html": [
       "<div>\n",
       "<style scoped>\n",
       "    .dataframe tbody tr th:only-of-type {\n",
       "        vertical-align: middle;\n",
       "    }\n",
       "\n",
       "    .dataframe tbody tr th {\n",
       "        vertical-align: top;\n",
       "    }\n",
       "\n",
       "    .dataframe thead th {\n",
       "        text-align: right;\n",
       "    }\n",
       "</style>\n",
       "<table border=\"1\" class=\"dataframe\">\n",
       "  <thead>\n",
       "    <tr style=\"text-align: right;\">\n",
       "      <th></th>\n",
       "      <th>Date</th>\n",
       "      <th>Location</th>\n",
       "      <th>MinTemp</th>\n",
       "      <th>MaxTemp</th>\n",
       "      <th>Rainfall</th>\n",
       "      <th>Evaporation</th>\n",
       "      <th>Sunshine</th>\n",
       "      <th>WindGustDir</th>\n",
       "      <th>WindGustSpeed</th>\n",
       "      <th>WindDir9am</th>\n",
       "      <th>...</th>\n",
       "      <th>Humidity9am</th>\n",
       "      <th>Humidity3pm</th>\n",
       "      <th>Pressure9am</th>\n",
       "      <th>Pressure3pm</th>\n",
       "      <th>Cloud9am</th>\n",
       "      <th>Cloud3pm</th>\n",
       "      <th>Temp9am</th>\n",
       "      <th>Temp3pm</th>\n",
       "      <th>RainToday</th>\n",
       "      <th>RainTomorrow</th>\n",
       "    </tr>\n",
       "  </thead>\n",
       "  <tbody>\n",
       "    <tr>\n",
       "      <th>0</th>\n",
       "      <td>01-12-2008</td>\n",
       "      <td>Albury</td>\n",
       "      <td>13.4</td>\n",
       "      <td>22.9</td>\n",
       "      <td>0.6</td>\n",
       "      <td>NaN</td>\n",
       "      <td>NaN</td>\n",
       "      <td>W</td>\n",
       "      <td>44.0</td>\n",
       "      <td>W</td>\n",
       "      <td>...</td>\n",
       "      <td>71</td>\n",
       "      <td>22</td>\n",
       "      <td>1007.7</td>\n",
       "      <td>1007.1</td>\n",
       "      <td>8.0</td>\n",
       "      <td>NaN</td>\n",
       "      <td>16.9</td>\n",
       "      <td>21.8</td>\n",
       "      <td>No</td>\n",
       "      <td>No</td>\n",
       "    </tr>\n",
       "    <tr>\n",
       "      <th>1</th>\n",
       "      <td>02-12-2008</td>\n",
       "      <td>Albury</td>\n",
       "      <td>7.4</td>\n",
       "      <td>25.1</td>\n",
       "      <td>0.0</td>\n",
       "      <td>NaN</td>\n",
       "      <td>NaN</td>\n",
       "      <td>WNW</td>\n",
       "      <td>44.0</td>\n",
       "      <td>NNW</td>\n",
       "      <td>...</td>\n",
       "      <td>44</td>\n",
       "      <td>25</td>\n",
       "      <td>1010.6</td>\n",
       "      <td>1007.8</td>\n",
       "      <td>NaN</td>\n",
       "      <td>NaN</td>\n",
       "      <td>17.2</td>\n",
       "      <td>24.3</td>\n",
       "      <td>No</td>\n",
       "      <td>No</td>\n",
       "    </tr>\n",
       "    <tr>\n",
       "      <th>2</th>\n",
       "      <td>03-12-2008</td>\n",
       "      <td>Albury</td>\n",
       "      <td>12.9</td>\n",
       "      <td>25.7</td>\n",
       "      <td>0.0</td>\n",
       "      <td>NaN</td>\n",
       "      <td>NaN</td>\n",
       "      <td>WSW</td>\n",
       "      <td>46.0</td>\n",
       "      <td>W</td>\n",
       "      <td>...</td>\n",
       "      <td>38</td>\n",
       "      <td>30</td>\n",
       "      <td>1007.6</td>\n",
       "      <td>1008.7</td>\n",
       "      <td>NaN</td>\n",
       "      <td>2.0</td>\n",
       "      <td>21.0</td>\n",
       "      <td>23.2</td>\n",
       "      <td>No</td>\n",
       "      <td>No</td>\n",
       "    </tr>\n",
       "    <tr>\n",
       "      <th>3</th>\n",
       "      <td>04-12-2008</td>\n",
       "      <td>Albury</td>\n",
       "      <td>9.2</td>\n",
       "      <td>28.0</td>\n",
       "      <td>0.0</td>\n",
       "      <td>NaN</td>\n",
       "      <td>NaN</td>\n",
       "      <td>NE</td>\n",
       "      <td>24.0</td>\n",
       "      <td>SE</td>\n",
       "      <td>...</td>\n",
       "      <td>45</td>\n",
       "      <td>16</td>\n",
       "      <td>1017.6</td>\n",
       "      <td>1012.8</td>\n",
       "      <td>NaN</td>\n",
       "      <td>NaN</td>\n",
       "      <td>18.1</td>\n",
       "      <td>26.5</td>\n",
       "      <td>No</td>\n",
       "      <td>No</td>\n",
       "    </tr>\n",
       "    <tr>\n",
       "      <th>4</th>\n",
       "      <td>05-12-2008</td>\n",
       "      <td>Albury</td>\n",
       "      <td>17.5</td>\n",
       "      <td>32.3</td>\n",
       "      <td>1.0</td>\n",
       "      <td>NaN</td>\n",
       "      <td>NaN</td>\n",
       "      <td>W</td>\n",
       "      <td>41.0</td>\n",
       "      <td>ENE</td>\n",
       "      <td>...</td>\n",
       "      <td>82</td>\n",
       "      <td>33</td>\n",
       "      <td>1010.8</td>\n",
       "      <td>1006.0</td>\n",
       "      <td>7.0</td>\n",
       "      <td>8.0</td>\n",
       "      <td>17.8</td>\n",
       "      <td>29.7</td>\n",
       "      <td>No</td>\n",
       "      <td>No</td>\n",
       "    </tr>\n",
       "  </tbody>\n",
       "</table>\n",
       "<p>5 rows × 23 columns</p>\n",
       "</div>"
      ],
      "text/plain": [
       "         Date Location  MinTemp  MaxTemp  Rainfall  Evaporation  Sunshine  \\\n",
       "0  01-12-2008   Albury     13.4     22.9       0.6          NaN       NaN   \n",
       "1  02-12-2008   Albury      7.4     25.1       0.0          NaN       NaN   \n",
       "2  03-12-2008   Albury     12.9     25.7       0.0          NaN       NaN   \n",
       "3  04-12-2008   Albury      9.2     28.0       0.0          NaN       NaN   \n",
       "4  05-12-2008   Albury     17.5     32.3       1.0          NaN       NaN   \n",
       "\n",
       "  WindGustDir  WindGustSpeed WindDir9am  ... Humidity9am  Humidity3pm  \\\n",
       "0           W           44.0          W  ...          71           22   \n",
       "1         WNW           44.0        NNW  ...          44           25   \n",
       "2         WSW           46.0          W  ...          38           30   \n",
       "3          NE           24.0         SE  ...          45           16   \n",
       "4           W           41.0        ENE  ...          82           33   \n",
       "\n",
       "   Pressure9am  Pressure3pm  Cloud9am  Cloud3pm  Temp9am  Temp3pm  RainToday  \\\n",
       "0       1007.7       1007.1       8.0       NaN     16.9     21.8         No   \n",
       "1       1010.6       1007.8       NaN       NaN     17.2     24.3         No   \n",
       "2       1007.6       1008.7       NaN       2.0     21.0     23.2         No   \n",
       "3       1017.6       1012.8       NaN       NaN     18.1     26.5         No   \n",
       "4       1010.8       1006.0       7.0       8.0     17.8     29.7         No   \n",
       "\n",
       "   RainTomorrow  \n",
       "0            No  \n",
       "1            No  \n",
       "2            No  \n",
       "3            No  \n",
       "4            No  \n",
       "\n",
       "[5 rows x 23 columns]"
      ]
     },
     "execution_count": 6,
     "metadata": {},
     "output_type": "execute_result"
    }
   ],
   "source": [
    "df_ALL.head()"
   ]
  },
  {
   "cell_type": "markdown",
   "id": "ff0c76f3",
   "metadata": {},
   "source": [
    "### Breif Exploratory Data Analysis"
   ]
  },
  {
   "cell_type": "code",
   "execution_count": 7,
   "id": "827d8fd4",
   "metadata": {},
   "outputs": [
    {
     "data": {
      "text/plain": [
       "(500, 23)"
      ]
     },
     "execution_count": 7,
     "metadata": {},
     "output_type": "execute_result"
    }
   ],
   "source": [
    "df_ALL.shape"
   ]
  },
  {
   "cell_type": "code",
   "execution_count": 8,
   "id": "efc07543",
   "metadata": {},
   "outputs": [
    {
     "data": {
      "text/plain": [
       "Date              object\n",
       "Location          object\n",
       "MinTemp          float64\n",
       "MaxTemp          float64\n",
       "Rainfall         float64\n",
       "Evaporation      float64\n",
       "Sunshine         float64\n",
       "WindGustDir       object\n",
       "WindGustSpeed    float64\n",
       "WindDir9am        object\n",
       "WindDir3pm        object\n",
       "WindSpeed9am     float64\n",
       "WindSpeed3pm     float64\n",
       "Humidity9am        int64\n",
       "Humidity3pm        int64\n",
       "Pressure9am      float64\n",
       "Pressure3pm      float64\n",
       "Cloud9am         float64\n",
       "Cloud3pm         float64\n",
       "Temp9am          float64\n",
       "Temp3pm          float64\n",
       "RainToday         object\n",
       "RainTomorrow      object\n",
       "dtype: object"
      ]
     },
     "execution_count": 8,
     "metadata": {},
     "output_type": "execute_result"
    }
   ],
   "source": [
    "df_ALL.dtypes"
   ]
  },
  {
   "cell_type": "markdown",
   "id": "511b5d31",
   "metadata": {},
   "source": [
    "### Statistics summary"
   ]
  },
  {
   "cell_type": "code",
   "execution_count": 9,
   "id": "575adc3f",
   "metadata": {},
   "outputs": [
    {
     "data": {
      "text/html": [
       "<div>\n",
       "<style scoped>\n",
       "    .dataframe tbody tr th:only-of-type {\n",
       "        vertical-align: middle;\n",
       "    }\n",
       "\n",
       "    .dataframe tbody tr th {\n",
       "        vertical-align: top;\n",
       "    }\n",
       "\n",
       "    .dataframe thead th {\n",
       "        text-align: right;\n",
       "    }\n",
       "</style>\n",
       "<table border=\"1\" class=\"dataframe\">\n",
       "  <thead>\n",
       "    <tr style=\"text-align: right;\">\n",
       "      <th></th>\n",
       "      <th>MinTemp</th>\n",
       "      <th>MaxTemp</th>\n",
       "      <th>Rainfall</th>\n",
       "      <th>Evaporation</th>\n",
       "      <th>Sunshine</th>\n",
       "      <th>WindGustSpeed</th>\n",
       "      <th>WindSpeed9am</th>\n",
       "      <th>WindSpeed3pm</th>\n",
       "      <th>Humidity9am</th>\n",
       "      <th>Humidity3pm</th>\n",
       "      <th>Pressure9am</th>\n",
       "      <th>Pressure3pm</th>\n",
       "      <th>Cloud9am</th>\n",
       "      <th>Cloud3pm</th>\n",
       "      <th>Temp9am</th>\n",
       "      <th>Temp3pm</th>\n",
       "    </tr>\n",
       "  </thead>\n",
       "  <tbody>\n",
       "    <tr>\n",
       "      <th>count</th>\n",
       "      <td>500.000000</td>\n",
       "      <td>500.00000</td>\n",
       "      <td>495.000000</td>\n",
       "      <td>0.0</td>\n",
       "      <td>0.0</td>\n",
       "      <td>494.000000</td>\n",
       "      <td>497.000000</td>\n",
       "      <td>497.000000</td>\n",
       "      <td>500.000000</td>\n",
       "      <td>500.000000</td>\n",
       "      <td>500.000000</td>\n",
       "      <td>500.000000</td>\n",
       "      <td>164.000000</td>\n",
       "      <td>176.000000</td>\n",
       "      <td>500.000000</td>\n",
       "      <td>500.000000</td>\n",
       "    </tr>\n",
       "    <tr>\n",
       "      <th>mean</th>\n",
       "      <td>11.113600</td>\n",
       "      <td>24.87640</td>\n",
       "      <td>1.508283</td>\n",
       "      <td>NaN</td>\n",
       "      <td>NaN</td>\n",
       "      <td>35.259109</td>\n",
       "      <td>8.376258</td>\n",
       "      <td>14.919517</td>\n",
       "      <td>67.006000</td>\n",
       "      <td>40.938000</td>\n",
       "      <td>1016.781600</td>\n",
       "      <td>1013.996600</td>\n",
       "      <td>6.103659</td>\n",
       "      <td>5.113636</td>\n",
       "      <td>15.920200</td>\n",
       "      <td>23.615800</td>\n",
       "    </tr>\n",
       "    <tr>\n",
       "      <th>std</th>\n",
       "      <td>6.091241</td>\n",
       "      <td>8.22335</td>\n",
       "      <td>5.040909</td>\n",
       "      <td>NaN</td>\n",
       "      <td>NaN</td>\n",
       "      <td>14.723884</td>\n",
       "      <td>7.072014</td>\n",
       "      <td>7.867704</td>\n",
       "      <td>18.291723</td>\n",
       "      <td>20.660878</td>\n",
       "      <td>6.859686</td>\n",
       "      <td>6.702245</td>\n",
       "      <td>2.575531</td>\n",
       "      <td>2.921572</td>\n",
       "      <td>6.466502</td>\n",
       "      <td>8.002743</td>\n",
       "    </tr>\n",
       "    <tr>\n",
       "      <th>min</th>\n",
       "      <td>-2.000000</td>\n",
       "      <td>8.20000</td>\n",
       "      <td>0.000000</td>\n",
       "      <td>NaN</td>\n",
       "      <td>NaN</td>\n",
       "      <td>11.000000</td>\n",
       "      <td>0.000000</td>\n",
       "      <td>0.000000</td>\n",
       "      <td>20.000000</td>\n",
       "      <td>7.000000</td>\n",
       "      <td>994.300000</td>\n",
       "      <td>993.000000</td>\n",
       "      <td>0.000000</td>\n",
       "      <td>1.000000</td>\n",
       "      <td>1.900000</td>\n",
       "      <td>7.300000</td>\n",
       "    </tr>\n",
       "    <tr>\n",
       "      <th>25%</th>\n",
       "      <td>6.500000</td>\n",
       "      <td>17.67500</td>\n",
       "      <td>0.000000</td>\n",
       "      <td>NaN</td>\n",
       "      <td>NaN</td>\n",
       "      <td>24.000000</td>\n",
       "      <td>4.000000</td>\n",
       "      <td>9.000000</td>\n",
       "      <td>51.000000</td>\n",
       "      <td>24.000000</td>\n",
       "      <td>1011.600000</td>\n",
       "      <td>1008.800000</td>\n",
       "      <td>4.000000</td>\n",
       "      <td>2.000000</td>\n",
       "      <td>10.575000</td>\n",
       "      <td>16.675000</td>\n",
       "    </tr>\n",
       "    <tr>\n",
       "      <th>50%</th>\n",
       "      <td>11.300000</td>\n",
       "      <td>25.30000</td>\n",
       "      <td>0.000000</td>\n",
       "      <td>NaN</td>\n",
       "      <td>NaN</td>\n",
       "      <td>33.000000</td>\n",
       "      <td>7.000000</td>\n",
       "      <td>13.000000</td>\n",
       "      <td>68.000000</td>\n",
       "      <td>38.000000</td>\n",
       "      <td>1016.650000</td>\n",
       "      <td>1013.750000</td>\n",
       "      <td>8.000000</td>\n",
       "      <td>6.000000</td>\n",
       "      <td>16.000000</td>\n",
       "      <td>24.100000</td>\n",
       "    </tr>\n",
       "    <tr>\n",
       "      <th>75%</th>\n",
       "      <td>15.600000</td>\n",
       "      <td>31.30000</td>\n",
       "      <td>0.400000</td>\n",
       "      <td>NaN</td>\n",
       "      <td>NaN</td>\n",
       "      <td>43.750000</td>\n",
       "      <td>11.000000</td>\n",
       "      <td>20.000000</td>\n",
       "      <td>82.000000</td>\n",
       "      <td>56.000000</td>\n",
       "      <td>1021.925000</td>\n",
       "      <td>1019.025000</td>\n",
       "      <td>8.000000</td>\n",
       "      <td>8.000000</td>\n",
       "      <td>20.825000</td>\n",
       "      <td>29.725000</td>\n",
       "    </tr>\n",
       "    <tr>\n",
       "      <th>max</th>\n",
       "      <td>28.300000</td>\n",
       "      <td>44.80000</td>\n",
       "      <td>66.000000</td>\n",
       "      <td>NaN</td>\n",
       "      <td>NaN</td>\n",
       "      <td>107.000000</td>\n",
       "      <td>37.000000</td>\n",
       "      <td>50.000000</td>\n",
       "      <td>99.000000</td>\n",
       "      <td>97.000000</td>\n",
       "      <td>1036.300000</td>\n",
       "      <td>1033.600000</td>\n",
       "      <td>8.000000</td>\n",
       "      <td>8.000000</td>\n",
       "      <td>34.500000</td>\n",
       "      <td>43.400000</td>\n",
       "    </tr>\n",
       "  </tbody>\n",
       "</table>\n",
       "</div>"
      ],
      "text/plain": [
       "          MinTemp    MaxTemp    Rainfall  Evaporation  Sunshine  \\\n",
       "count  500.000000  500.00000  495.000000          0.0       0.0   \n",
       "mean    11.113600   24.87640    1.508283          NaN       NaN   \n",
       "std      6.091241    8.22335    5.040909          NaN       NaN   \n",
       "min     -2.000000    8.20000    0.000000          NaN       NaN   \n",
       "25%      6.500000   17.67500    0.000000          NaN       NaN   \n",
       "50%     11.300000   25.30000    0.000000          NaN       NaN   \n",
       "75%     15.600000   31.30000    0.400000          NaN       NaN   \n",
       "max     28.300000   44.80000   66.000000          NaN       NaN   \n",
       "\n",
       "       WindGustSpeed  WindSpeed9am  WindSpeed3pm  Humidity9am  Humidity3pm  \\\n",
       "count     494.000000    497.000000    497.000000   500.000000   500.000000   \n",
       "mean       35.259109      8.376258     14.919517    67.006000    40.938000   \n",
       "std        14.723884      7.072014      7.867704    18.291723    20.660878   \n",
       "min        11.000000      0.000000      0.000000    20.000000     7.000000   \n",
       "25%        24.000000      4.000000      9.000000    51.000000    24.000000   \n",
       "50%        33.000000      7.000000     13.000000    68.000000    38.000000   \n",
       "75%        43.750000     11.000000     20.000000    82.000000    56.000000   \n",
       "max       107.000000     37.000000     50.000000    99.000000    97.000000   \n",
       "\n",
       "       Pressure9am  Pressure3pm    Cloud9am    Cloud3pm     Temp9am  \\\n",
       "count   500.000000   500.000000  164.000000  176.000000  500.000000   \n",
       "mean   1016.781600  1013.996600    6.103659    5.113636   15.920200   \n",
       "std       6.859686     6.702245    2.575531    2.921572    6.466502   \n",
       "min     994.300000   993.000000    0.000000    1.000000    1.900000   \n",
       "25%    1011.600000  1008.800000    4.000000    2.000000   10.575000   \n",
       "50%    1016.650000  1013.750000    8.000000    6.000000   16.000000   \n",
       "75%    1021.925000  1019.025000    8.000000    8.000000   20.825000   \n",
       "max    1036.300000  1033.600000    8.000000    8.000000   34.500000   \n",
       "\n",
       "          Temp3pm  \n",
       "count  500.000000  \n",
       "mean    23.615800  \n",
       "std      8.002743  \n",
       "min      7.300000  \n",
       "25%     16.675000  \n",
       "50%     24.100000  \n",
       "75%     29.725000  \n",
       "max     43.400000  "
      ]
     },
     "execution_count": 9,
     "metadata": {},
     "output_type": "execute_result"
    }
   ],
   "source": [
    "df_ALL.describe()"
   ]
  },
  {
   "cell_type": "code",
   "execution_count": 10,
   "id": "beb8df42",
   "metadata": {},
   "outputs": [],
   "source": [
    "### Filtering all other atributes"
   ]
  },
  {
   "cell_type": "code",
   "execution_count": 11,
   "id": "58224f2e",
   "metadata": {},
   "outputs": [],
   "source": [
    "df = df_ALL.iloc[:,3:4]\n"
   ]
  },
  {
   "cell_type": "code",
   "execution_count": 12,
   "id": "2e32e664",
   "metadata": {},
   "outputs": [
    {
     "data": {
      "text/html": [
       "<div>\n",
       "<style scoped>\n",
       "    .dataframe tbody tr th:only-of-type {\n",
       "        vertical-align: middle;\n",
       "    }\n",
       "\n",
       "    .dataframe tbody tr th {\n",
       "        vertical-align: top;\n",
       "    }\n",
       "\n",
       "    .dataframe thead th {\n",
       "        text-align: right;\n",
       "    }\n",
       "</style>\n",
       "<table border=\"1\" class=\"dataframe\">\n",
       "  <thead>\n",
       "    <tr style=\"text-align: right;\">\n",
       "      <th></th>\n",
       "      <th>MaxTemp</th>\n",
       "    </tr>\n",
       "  </thead>\n",
       "  <tbody>\n",
       "    <tr>\n",
       "      <th>0</th>\n",
       "      <td>22.9</td>\n",
       "    </tr>\n",
       "    <tr>\n",
       "      <th>1</th>\n",
       "      <td>25.1</td>\n",
       "    </tr>\n",
       "    <tr>\n",
       "      <th>2</th>\n",
       "      <td>25.7</td>\n",
       "    </tr>\n",
       "    <tr>\n",
       "      <th>3</th>\n",
       "      <td>28.0</td>\n",
       "    </tr>\n",
       "    <tr>\n",
       "      <th>4</th>\n",
       "      <td>32.3</td>\n",
       "    </tr>\n",
       "  </tbody>\n",
       "</table>\n",
       "</div>"
      ],
      "text/plain": [
       "   MaxTemp\n",
       "0     22.9\n",
       "1     25.1\n",
       "2     25.7\n",
       "3     28.0\n",
       "4     32.3"
      ]
     },
     "execution_count": 12,
     "metadata": {},
     "output_type": "execute_result"
    }
   ],
   "source": [
    "df.head()"
   ]
  },
  {
   "cell_type": "code",
   "execution_count": 13,
   "id": "e6ad644d",
   "metadata": {},
   "outputs": [
    {
     "data": {
      "text/plain": [
       "<AxesSubplot:>"
      ]
     },
     "execution_count": 13,
     "metadata": {},
     "output_type": "execute_result"
    },
    {
     "data": {
      "image/png": "[encoded data removed]",
      "text/plain": [
       "<Figure size 864x576 with 1 Axes>"
      ]
     },
     "metadata": {
      "needs_background": "light"
     },
     "output_type": "display_data"
    }
   ],
   "source": [
    "df.plot(figsize=(12,8))"
   ]
  },
  {
   "cell_type": "code",
   "execution_count": 14,
   "id": "9e616874",
   "metadata": {},
   "outputs": [],
   "source": [
    "length60=60"
   ]
  },
  {
   "cell_type": "code",
   "execution_count": 15,
   "id": "282ae007",
   "metadata": {},
   "outputs": [
    {
     "data": {
      "text/plain": [
       "60"
      ]
     },
     "execution_count": 15,
     "metadata": {},
     "output_type": "execute_result"
    }
   ],
   "source": [
    "length60"
   ]
  },
  {
   "cell_type": "markdown",
   "id": "27a505b6",
   "metadata": {},
   "source": [
    "###Time Series Dataste: Train / test Split "
   ]
  },
  {
   "cell_type": "code",
   "execution_count": 16,
   "id": "5d64d2d2",
   "metadata": {},
   "outputs": [
    {
     "data": {
      "text/plain": [
       "500"
      ]
     },
     "execution_count": 16,
     "metadata": {},
     "output_type": "execute_result"
    }
   ],
   "source": [
    "len(df)"
   ]
  },
  {
   "cell_type": "code",
   "execution_count": 17,
   "id": "135d71c9",
   "metadata": {},
   "outputs": [],
   "source": [
    "test_percent = 0.1"
   ]
  },
  {
   "cell_type": "code",
   "execution_count": 18,
   "id": "40f9ffab",
   "metadata": {},
   "outputs": [
    {
     "data": {
      "text/plain": [
       "50.0"
      ]
     },
     "execution_count": 18,
     "metadata": {},
     "output_type": "execute_result"
    }
   ],
   "source": [
    "len(df)*test_percent"
   ]
  },
  {
   "cell_type": "markdown",
   "id": "26e2673e",
   "metadata": {},
   "source": [
    "### Split-> Train /test"
   ]
  },
  {
   "cell_type": "code",
   "execution_count": 19,
   "id": "c62ccfdd",
   "metadata": {},
   "outputs": [
    {
     "data": {
      "text/plain": [
       "50.0"
      ]
     },
     "execution_count": 19,
     "metadata": {},
     "output_type": "execute_result"
    }
   ],
   "source": [
    "test_length= np.round(len(df)*test_percent)\n",
    "test_length"
   ]
  },
  {
   "cell_type": "code",
   "execution_count": 20,
   "id": "839889b7",
   "metadata": {},
   "outputs": [
    {
     "data": {
      "text/plain": [
       "450"
      ]
     },
     "execution_count": 20,
     "metadata": {},
     "output_type": "execute_result"
    }
   ],
   "source": [
    "split_index = int(len(df) - test_length)\n",
    "\n",
    "split_index"
   ]
  },
  {
   "cell_type": "code",
   "execution_count": 21,
   "id": "41931432",
   "metadata": {},
   "outputs": [],
   "source": [
    "data_train= df.iloc[: split_index]\n",
    "data_test = df.iloc[split_index - length60 :]"
   ]
  },
  {
   "cell_type": "code",
   "execution_count": 22,
   "id": "f184525b",
   "metadata": {},
   "outputs": [
    {
     "data": {
      "text/html": [
       "<div>\n",
       "<style scoped>\n",
       "    .dataframe tbody tr th:only-of-type {\n",
       "        vertical-align: middle;\n",
       "    }\n",
       "\n",
       "    .dataframe tbody tr th {\n",
       "        vertical-align: top;\n",
       "    }\n",
       "\n",
       "    .dataframe thead th {\n",
       "        text-align: right;\n",
       "    }\n",
       "</style>\n",
       "<table border=\"1\" class=\"dataframe\">\n",
       "  <thead>\n",
       "    <tr style=\"text-align: right;\">\n",
       "      <th></th>\n",
       "      <th>MaxTemp</th>\n",
       "    </tr>\n",
       "  </thead>\n",
       "  <tbody>\n",
       "    <tr>\n",
       "      <th>0</th>\n",
       "      <td>22.9</td>\n",
       "    </tr>\n",
       "    <tr>\n",
       "      <th>1</th>\n",
       "      <td>25.1</td>\n",
       "    </tr>\n",
       "    <tr>\n",
       "      <th>2</th>\n",
       "      <td>25.7</td>\n",
       "    </tr>\n",
       "    <tr>\n",
       "      <th>3</th>\n",
       "      <td>28.0</td>\n",
       "    </tr>\n",
       "    <tr>\n",
       "      <th>4</th>\n",
       "      <td>32.3</td>\n",
       "    </tr>\n",
       "  </tbody>\n",
       "</table>\n",
       "</div>"
      ],
      "text/plain": [
       "   MaxTemp\n",
       "0     22.9\n",
       "1     25.1\n",
       "2     25.7\n",
       "3     28.0\n",
       "4     32.3"
      ]
     },
     "execution_count": 22,
     "metadata": {},
     "output_type": "execute_result"
    }
   ],
   "source": [
    "data_train.head(5)"
   ]
  },
  {
   "cell_type": "code",
   "execution_count": 23,
   "id": "27cbbaf0",
   "metadata": {},
   "outputs": [
    {
     "data": {
      "text/html": [
       "<div>\n",
       "<style scoped>\n",
       "    .dataframe tbody tr th:only-of-type {\n",
       "        vertical-align: middle;\n",
       "    }\n",
       "\n",
       "    .dataframe tbody tr th {\n",
       "        vertical-align: top;\n",
       "    }\n",
       "\n",
       "    .dataframe thead th {\n",
       "        text-align: right;\n",
       "    }\n",
       "</style>\n",
       "<table border=\"1\" class=\"dataframe\">\n",
       "  <thead>\n",
       "    <tr style=\"text-align: right;\">\n",
       "      <th></th>\n",
       "      <th>MaxTemp</th>\n",
       "    </tr>\n",
       "  </thead>\n",
       "  <tbody>\n",
       "    <tr>\n",
       "      <th>445</th>\n",
       "      <td>34.7</td>\n",
       "    </tr>\n",
       "    <tr>\n",
       "      <th>446</th>\n",
       "      <td>26.4</td>\n",
       "    </tr>\n",
       "    <tr>\n",
       "      <th>447</th>\n",
       "      <td>26.1</td>\n",
       "    </tr>\n",
       "    <tr>\n",
       "      <th>448</th>\n",
       "      <td>28.5</td>\n",
       "    </tr>\n",
       "    <tr>\n",
       "      <th>449</th>\n",
       "      <td>31.0</td>\n",
       "    </tr>\n",
       "  </tbody>\n",
       "</table>\n",
       "</div>"
      ],
      "text/plain": [
       "     MaxTemp\n",
       "445     34.7\n",
       "446     26.4\n",
       "447     26.1\n",
       "448     28.5\n",
       "449     31.0"
      ]
     },
     "execution_count": 23,
     "metadata": {},
     "output_type": "execute_result"
    }
   ],
   "source": [
    "data_train.tail()"
   ]
  },
  {
   "cell_type": "code",
   "execution_count": 24,
   "id": "cc4e1167",
   "metadata": {},
   "outputs": [
    {
     "data": {
      "text/html": [
       "<div>\n",
       "<style scoped>\n",
       "    .dataframe tbody tr th:only-of-type {\n",
       "        vertical-align: middle;\n",
       "    }\n",
       "\n",
       "    .dataframe tbody tr th {\n",
       "        vertical-align: top;\n",
       "    }\n",
       "\n",
       "    .dataframe thead th {\n",
       "        text-align: right;\n",
       "    }\n",
       "</style>\n",
       "<table border=\"1\" class=\"dataframe\">\n",
       "  <thead>\n",
       "    <tr style=\"text-align: right;\">\n",
       "      <th></th>\n",
       "      <th>MaxTemp</th>\n",
       "    </tr>\n",
       "  </thead>\n",
       "  <tbody>\n",
       "    <tr>\n",
       "      <th>390</th>\n",
       "      <td>27.3</td>\n",
       "    </tr>\n",
       "    <tr>\n",
       "      <th>391</th>\n",
       "      <td>35.9</td>\n",
       "    </tr>\n",
       "    <tr>\n",
       "      <th>392</th>\n",
       "      <td>35.9</td>\n",
       "    </tr>\n",
       "    <tr>\n",
       "      <th>393</th>\n",
       "      <td>36.8</td>\n",
       "    </tr>\n",
       "    <tr>\n",
       "      <th>394</th>\n",
       "      <td>33.2</td>\n",
       "    </tr>\n",
       "  </tbody>\n",
       "</table>\n",
       "</div>"
      ],
      "text/plain": [
       "     MaxTemp\n",
       "390     27.3\n",
       "391     35.9\n",
       "392     35.9\n",
       "393     36.8\n",
       "394     33.2"
      ]
     },
     "execution_count": 24,
     "metadata": {},
     "output_type": "execute_result"
    }
   ],
   "source": [
    "data_test.head(5)"
   ]
  },
  {
   "cell_type": "code",
   "execution_count": 25,
   "id": "99b854b7",
   "metadata": {},
   "outputs": [
    {
     "data": {
      "text/html": [
       "<div>\n",
       "<style scoped>\n",
       "    .dataframe tbody tr th:only-of-type {\n",
       "        vertical-align: middle;\n",
       "    }\n",
       "\n",
       "    .dataframe tbody tr th {\n",
       "        vertical-align: top;\n",
       "    }\n",
       "\n",
       "    .dataframe thead th {\n",
       "        text-align: right;\n",
       "    }\n",
       "</style>\n",
       "<table border=\"1\" class=\"dataframe\">\n",
       "  <thead>\n",
       "    <tr style=\"text-align: right;\">\n",
       "      <th></th>\n",
       "      <th>MaxTemp</th>\n",
       "    </tr>\n",
       "  </thead>\n",
       "  <tbody>\n",
       "    <tr>\n",
       "      <th>495</th>\n",
       "      <td>25.1</td>\n",
       "    </tr>\n",
       "    <tr>\n",
       "      <th>496</th>\n",
       "      <td>25.9</td>\n",
       "    </tr>\n",
       "    <tr>\n",
       "      <th>497</th>\n",
       "      <td>25.2</td>\n",
       "    </tr>\n",
       "    <tr>\n",
       "      <th>498</th>\n",
       "      <td>27.5</td>\n",
       "    </tr>\n",
       "    <tr>\n",
       "      <th>499</th>\n",
       "      <td>27.3</td>\n",
       "    </tr>\n",
       "  </tbody>\n",
       "</table>\n",
       "</div>"
      ],
      "text/plain": [
       "     MaxTemp\n",
       "495     25.1\n",
       "496     25.9\n",
       "497     25.2\n",
       "498     27.5\n",
       "499     27.3"
      ]
     },
     "execution_count": 25,
     "metadata": {},
     "output_type": "execute_result"
    }
   ],
   "source": [
    "data_test.tail()"
   ]
  },
  {
   "cell_type": "markdown",
   "id": "72507161",
   "metadata": {},
   "source": [
    "### Normalize Data (scaling)"
   ]
  },
  {
   "cell_type": "code",
   "execution_count": 26,
   "id": "2907fcf9",
   "metadata": {},
   "outputs": [],
   "source": [
    "scaler = MinMaxScaler()"
   ]
  },
  {
   "cell_type": "code",
   "execution_count": 27,
   "id": "8f39a0da",
   "metadata": {},
   "outputs": [
    {
     "data": {
      "text/plain": [
       "MinMaxScaler()"
      ]
     },
     "execution_count": 27,
     "metadata": {},
     "output_type": "execute_result"
    }
   ],
   "source": [
    "scaler.fit(data_train)"
   ]
  },
  {
   "cell_type": "code",
   "execution_count": 28,
   "id": "f87ce279",
   "metadata": {},
   "outputs": [],
   "source": [
    "normalized_train= scaler.transform(data_train)\n",
    "normalized_test = scaler.transform(data_test)"
   ]
  },
  {
   "cell_type": "markdown",
   "id": "c72f19f1",
   "metadata": {},
   "source": [
    "### Create TimeseriesGenerator for Training"
   ]
  },
  {
   "cell_type": "code",
   "execution_count": 29,
   "id": "b3d33dee",
   "metadata": {},
   "outputs": [],
   "source": [
    "batch_size32 = 32\n",
    "train_tsGenerator60 = TimeseriesGenerator(normalized_train, normalized_train, length=length60, batch_size=batch_size32)"
   ]
  },
  {
   "cell_type": "code",
   "execution_count": 30,
   "id": "440012b5",
   "metadata": {},
   "outputs": [
    {
     "data": {
      "text/plain": [
       "450"
      ]
     },
     "execution_count": 30,
     "metadata": {},
     "output_type": "execute_result"
    }
   ],
   "source": [
    "len(normalized_train)"
   ]
  },
  {
   "cell_type": "code",
   "execution_count": 31,
   "id": "1481422c",
   "metadata": {},
   "outputs": [
    {
     "data": {
      "text/plain": [
       "13"
      ]
     },
     "execution_count": 31,
     "metadata": {},
     "output_type": "execute_result"
    }
   ],
   "source": [
    "len(train_tsGenerator60)"
   ]
  },
  {
   "cell_type": "code",
   "execution_count": 32,
   "id": "f0e63ea8",
   "metadata": {},
   "outputs": [],
   "source": [
    "X,Y = train_tsGenerator60[0]"
   ]
  },
  {
   "cell_type": "markdown",
   "id": "e72a74d6",
   "metadata": {},
   "source": [
    "### Build, Train and test Model"
   ]
  },
  {
   "cell_type": "code",
   "execution_count": 33,
   "id": "80674ca8",
   "metadata": {},
   "outputs": [],
   "source": [
    "n_features = 1"
   ]
  },
  {
   "cell_type": "code",
   "execution_count": 34,
   "id": "e80ad4de",
   "metadata": {
    "scrolled": true
   },
   "outputs": [],
   "source": [
    "## Define Model\n",
    "model = Sequential()\n",
    "\n",
    "# Add an LSTM Layer\n",
    "# This Layer has 50 LSTM Cells\n",
    "# Activation Function: relu\n",
    "# MUST: return_sequences=True\n",
    "#-----> Because of multiple LSTM layers: the layers are stacked\n",
    "#-----> Outputs = inputs of the next LSTM layer\n",
    "model.add(LSTM(150, activation='relu', return_sequences=True, input_shape=(length60, n_features)))\n",
    "\n",
    "## Dropout Layer\n",
    "model.add(Dropout(0.1))\n",
    "\n",
    "## Add 2nd LSTM Layer\n",
    "# MUST: return_sequences=True\n",
    "#----> Because of multiple LSTM layers: Layers are Stacked\n",
    "#----> Outputs = inputs of the next LSTM layer\n",
    "model.add(LSTM(units=50, activation='relu', return_sequences=True))\n",
    "\n",
    "## Dropout Layer\n",
    "model.add(Dropout(0.1))\n",
    "\n",
    "## Add 3rd LSTM Layer\n",
    "model.add(LSTM(units=150, activation='relu'))\n",
    "\n",
    "#Add a FC (fully-connected) layer for the final prediction\n",
    "model.add(Dense(1))\n",
    "\n",
    "##Procedure:\n",
    "#Time Series Input---> LSTM --->Dropout --->LSTM --->Droput --->LSTM --->Dense --->Output"
   ]
  },
  {
   "cell_type": "markdown",
   "id": "57f52e20",
   "metadata": {},
   "source": [
    "### Compile Model"
   ]
  },
  {
   "cell_type": "code",
   "execution_count": 35,
   "id": "46714250",
   "metadata": {},
   "outputs": [
    {
     "name": "stdout",
     "output_type": "stream",
     "text": [
      "Model: \"sequential\"\n",
      "_________________________________________________________________\n",
      " Layer (type)                Output Shape              Param #   \n",
      "=================================================================\n",
      " lstm (LSTM)                 (None, 60, 150)           91200     \n",
      "                                                                 \n",
      " dropout (Dropout)           (None, 60, 150)           0         \n",
      "                                                                 \n",
      " lstm_1 (LSTM)               (None, 60, 50)            40200     \n",
      "                                                                 \n",
      " dropout_1 (Dropout)         (None, 60, 50)            0         \n",
      "                                                                 \n",
      " lstm_2 (LSTM)               (None, 150)               120600    \n",
      "                                                                 \n",
      " dense (Dense)               (None, 1)                 151       \n",
      "                                                                 \n",
      "=================================================================\n",
      "Total params: 252,151\n",
      "Trainable params: 252,151\n",
      "Non-trainable params: 0\n",
      "_________________________________________________________________\n"
     ]
    }
   ],
   "source": [
    "model.compile(optimizer='adam', loss='mse')\n",
    "model.summary()"
   ]
  },
  {
   "cell_type": "markdown",
   "id": "94bf1064",
   "metadata": {},
   "source": [
    "### Train (fit) model Using fit_generator()"
   ]
  },
  {
   "cell_type": "code",
   "execution_count": null,
   "id": "68e9bec3",
   "metadata": {},
   "outputs": [
    {
     "name": "stdout",
     "output_type": "stream",
     "text": [
      "Epoch 1/100\n"
     ]
    },
    {
     "name": "stderr",
     "output_type": "stream",
     "text": [
      "C:\\Users\\anand\\AppData\\Local\\Temp\\ipykernel_4264\\1790817069.py:3: UserWarning: `Model.fit_generator` is deprecated and will be removed in a future version. Please use `Model.fit`, which supports generators.\n",
      "  model.fit_generator(train_tsGenerator60, epochs=100)\n"
     ]
    },
    {
     "name": "stdout",
     "output_type": "stream",
     "text": [
      "13/13 [==============================] - 6s 127ms/step - loss: 0.1517\n",
      "Epoch 2/100\n",
      "13/13 [==============================] - 2s 132ms/step - loss: 0.0657\n",
      "Epoch 3/100\n",
      "13/13 [==============================] - 2s 126ms/step - loss: 0.0270\n",
      "Epoch 4/100\n",
      "13/13 [==============================] - 2s 129ms/step - loss: 0.0240\n",
      "Epoch 5/100\n",
      "13/13 [==============================] - 2s 130ms/step - loss: 0.0198\n",
      "Epoch 6/100\n",
      "13/13 [==============================] - 2s 132ms/step - loss: 0.0200\n",
      "Epoch 7/100\n",
      "13/13 [==============================] - 2s 139ms/step - loss: 0.0203\n",
      "Epoch 8/100\n",
      "13/13 [==============================] - 2s 142ms/step - loss: 0.0174\n",
      "Epoch 9/100\n",
      "13/13 [==============================] - 2s 143ms/step - loss: 0.0187\n",
      "Epoch 10/100\n",
      "13/13 [==============================] - 2s 142ms/step - loss: 0.0179\n",
      "Epoch 11/100\n",
      "13/13 [==============================] - 2s 135ms/step - loss: 0.0196\n",
      "Epoch 12/100\n",
      "13/13 [==============================] - 2s 129ms/step - loss: 0.0175\n",
      "Epoch 13/100\n",
      "13/13 [==============================] - 2s 132ms/step - loss: 0.0262\n",
      "Epoch 14/100\n",
      "13/13 [==============================] - 2s 130ms/step - loss: 0.0163\n",
      "Epoch 15/100\n",
      "13/13 [==============================] - 2s 125ms/step - loss: 0.0156\n",
      "Epoch 16/100\n",
      "13/13 [==============================] - 2s 139ms/step - loss: 0.0169\n",
      "Epoch 17/100\n",
      "13/13 [==============================] - 2s 143ms/step - loss: 0.0155\n",
      "Epoch 18/100\n",
      "13/13 [==============================] - 2s 135ms/step - loss: 0.0155\n",
      "Epoch 19/100\n",
      "13/13 [==============================] - 2s 147ms/step - loss: 0.0144\n",
      "Epoch 20/100\n",
      "13/13 [==============================] - 2s 137ms/step - loss: 0.0152\n",
      "Epoch 21/100\n",
      "13/13 [==============================] - 2s 130ms/step - loss: 0.0157\n",
      "Epoch 22/100\n",
      "13/13 [==============================] - 2s 140ms/step - loss: 0.0150\n",
      "Epoch 23/100\n",
      "13/13 [==============================] - 2s 133ms/step - loss: 0.0151\n",
      "Epoch 24/100\n",
      "13/13 [==============================] - 2s 168ms/step - loss: 0.0145\n",
      "Epoch 25/100\n",
      " 1/13 [=>............................] - ETA: 2s - loss: 0.0166"
     ]
    }
   ],
   "source": [
    "## Train the Model\n",
    "\n",
    "model.fit_generator(train_tsGenerator60, epochs=100)"
   ]
  },
  {
   "cell_type": "markdown",
   "id": "aacfbd1e",
   "metadata": {},
   "source": [
    "### Visulaize Model's PErformance after Training "
   ]
  },
  {
   "cell_type": "code",
   "execution_count": null,
   "id": "c5483126",
   "metadata": {},
   "outputs": [],
   "source": [
    "loss_history_keys = model.history.history.keys()\n",
    "loss_history_keys"
   ]
  },
  {
   "cell_type": "code",
   "execution_count": null,
   "id": "072aefc9",
   "metadata": {},
   "outputs": [],
   "source": [
    "df_model_loss = pd.DataFrame(model.history.history)\n",
    "\n",
    "\n",
    "df_model_loss.plot()"
   ]
  },
  {
   "cell_type": "code",
   "execution_count": null,
   "id": "60e52899",
   "metadata": {},
   "outputs": [],
   "source": [
    "### Prediction for Testing : using Timeseries Genrator"
   ]
  },
  {
   "cell_type": "code",
   "execution_count": null,
   "id": "19e43417",
   "metadata": {},
   "outputs": [],
   "source": [
    "batch_size1= 1\n",
    "test_tsGenerator60 = TimeseriesGenerator(normalized_test, normalized_test, length=length60, batch_size=batch_size1)"
   ]
  },
  {
   "cell_type": "code",
   "execution_count": null,
   "id": "90a892b3",
   "metadata": {},
   "outputs": [],
   "source": [
    "normalized_prediction=model.predict_generator (test_tsGenerator60)"
   ]
  },
  {
   "cell_type": "code",
   "execution_count": null,
   "id": "c6eb7ebb",
   "metadata": {},
   "outputs": [],
   "source": [
    "normalized_prediction"
   ]
  },
  {
   "cell_type": "code",
   "execution_count": null,
   "id": "b55871bb",
   "metadata": {},
   "outputs": [],
   "source": [
    "len(normalized_prediction)"
   ]
  },
  {
   "cell_type": "code",
   "execution_count": null,
   "id": "d2a48a4e",
   "metadata": {},
   "outputs": [],
   "source": [
    "prediction = scaler.inverse_transform(normalized_prediction)"
   ]
  },
  {
   "cell_type": "code",
   "execution_count": null,
   "id": "0a65be61",
   "metadata": {},
   "outputs": [],
   "source": [
    "prediction_index = np.arange(166, 166+len(prediction), step=1)\n",
    "\n",
    "df_prediction = pd.DataFrame(data=prediction,index=prediction_index, columns=['prediction'])"
   ]
  },
  {
   "cell_type": "code",
   "execution_count": null,
   "id": "fca430a0",
   "metadata": {},
   "outputs": [],
   "source": [
    "df_prediction"
   ]
  },
  {
   "cell_type": "markdown",
   "id": "2efca1c6",
   "metadata": {},
   "source": [
    "### Visulaize Predictions"
   ]
  },
  {
   "cell_type": "code",
   "execution_count": null,
   "id": "77e682dc",
   "metadata": {},
   "outputs": [],
   "source": [
    "ax = data_train.plot()\n",
    "\n",
    "df_prediction.plot(ax=ax, figsize=(8, 12))"
   ]
  },
  {
   "cell_type": "code",
   "execution_count": null,
   "id": "f7a6121f",
   "metadata": {},
   "outputs": [],
   "source": [
    "full_scaler= MinMaxScaler()\n",
    "normalized_full_data=full_scaler.fit_transform(df)"
   ]
  },
  {
   "cell_type": "markdown",
   "id": "49385166",
   "metadata": {},
   "source": [
    "### Create Timeseries GEnerator for Forecasting"
   ]
  },
  {
   "cell_type": "code",
   "execution_count": null,
   "id": "1878683c",
   "metadata": {},
   "outputs": [],
   "source": [
    "length60"
   ]
  },
  {
   "cell_type": "code",
   "execution_count": null,
   "id": "6ec075d4",
   "metadata": {},
   "outputs": [],
   "source": [
    "forecast_tsGenerator = TimeseriesGenerator(normalized_train, normalized_train, length=length60, batch_size=batch_size32)"
   ]
  },
  {
   "cell_type": "markdown",
   "id": "870b7673",
   "metadata": {},
   "source": [
    "### Build Compile and Fit LTSM model for forecasting"
   ]
  },
  {
   "cell_type": "code",
   "execution_count": null,
   "id": "46a89582",
   "metadata": {},
   "outputs": [],
   "source": [
    "model.fit_generator(forecast_tsGenerator, epochs=100)"
   ]
  },
  {
   "cell_type": "markdown",
   "id": "ac3a7da7",
   "metadata": {},
   "source": [
    "### Time Series Forecast Using LSTM Nueural Network "
   ]
  },
  {
   "cell_type": "code",
   "execution_count": null,
   "id": "d77f783a",
   "metadata": {},
   "outputs": [],
   "source": [
    "periods = 50\n",
    "\n",
    "# Selecting the last 60 timesteps from the training dataset\n",
    "first_eval_batch = normalized_full_data[-length60:]\n",
    "current_batch = first_eval_batch.reshape((1, length60, n_features))\n",
    "forecast = []\n",
    "# Generating the forecasts for the next 50 days\n",
    "for i in range(periods):\n",
    "    # Make a prediction with the current batch\n",
    "    current_pred = model.predict(current_batch)[0]\n",
    "    # Append the prediction to the forecast list\n",
    "    forecast.append(current_pred)\n",
    "    # Create a new batch with the predicted value and the previous 59 values\n",
    "    current_batch = np.append(current_batch[:, 1:, :], [[current_pred]], axis=1)\n"
   ]
  },
  {
   "cell_type": "markdown",
   "id": "18040f78",
   "metadata": {},
   "source": [
    "###  inverse to transform"
   ]
  },
  {
   "cell_type": "code",
   "execution_count": null,
   "id": "dfde151e",
   "metadata": {},
   "outputs": [],
   "source": [
    "MaxTemp = full_scaler.inverse_transform(forecast)\n",
    "MaxTemp"
   ]
  },
  {
   "cell_type": "code",
   "execution_count": null,
   "id": "3d8e3de9",
   "metadata": {},
   "outputs": [],
   "source": [
    "### creating new timestamp index with pandas "
   ]
  },
  {
   "cell_type": "code",
   "execution_count": null,
   "id": "0d5d3971",
   "metadata": {},
   "outputs": [],
   "source": [
    "MaxTemp_index = np.arange(1382, 1432, step=1)\n"
   ]
  },
  {
   "cell_type": "code",
   "execution_count": null,
   "id": "808fc5f0",
   "metadata": {},
   "outputs": [],
   "source": [
    "forecast_df= pd.DataFrame(data=MaxTemp, index=MaxTemp_index, columns=['forecast'])"
   ]
  },
  {
   "cell_type": "code",
   "execution_count": null,
   "id": "48957471",
   "metadata": {},
   "outputs": [],
   "source": [
    "forecast_df"
   ]
  },
  {
   "cell_type": "markdown",
   "id": "fc0ee02f",
   "metadata": {},
   "source": [
    "### Plot the Forecast"
   ]
  },
  {
   "cell_type": "code",
   "execution_count": null,
   "id": "4ae0fa94",
   "metadata": {},
   "outputs": [],
   "source": [
    "df.plot()\n",
    "forecast_df.plot()"
   ]
  },
  {
   "cell_type": "code",
   "execution_count": null,
   "id": "d0507e00",
   "metadata": {},
   "outputs": [],
   "source": [
    "ax= df.plot()\n",
    "forecast_df.plot(ax=ax, figsize=(12,8))"
   ]
  },
  {
   "cell_type": "code",
   "execution_count": null,
   "id": "bde51d88",
   "metadata": {},
   "outputs": [],
   "source": [
    "dir_path_dataset_2= 'C:/Users/anand/Downloads/Weather report 2010_Apr-Jun.csv'"
   ]
  },
  {
   "cell_type": "code",
   "execution_count": null,
   "id": "a46a4109",
   "metadata": {},
   "outputs": [],
   "source": [
    "df_ALL_forecast= pd.read_csv('C:/Users/anand/Downloads/Weather report 2010_Apr-Jun.csv')"
   ]
  },
  {
   "cell_type": "code",
   "execution_count": null,
   "id": "7f1413f5",
   "metadata": {},
   "outputs": [],
   "source": [
    "df_ALL_forecast.head()"
   ]
  },
  {
   "cell_type": "code",
   "execution_count": null,
   "id": "ecb7e7d4",
   "metadata": {},
   "outputs": [],
   "source": [
    "df_ALL_forecast = df_ALL_forecast.iloc[:, 3:4]\n"
   ]
  },
  {
   "cell_type": "code",
   "execution_count": null,
   "id": "c8a438da",
   "metadata": {},
   "outputs": [],
   "source": [
    "df_ALL_forecast"
   ]
  },
  {
   "cell_type": "code",
   "execution_count": null,
   "id": "2f75f024",
   "metadata": {},
   "outputs": [],
   "source": [
    "df_ALL_forecast.plot()"
   ]
  },
  {
   "cell_type": "code",
   "execution_count": null,
   "id": "e8c09122",
   "metadata": {
    "scrolled": true
   },
   "outputs": [],
   "source": [
    "forecast_df['forecast'].values"
   ]
  },
  {
   "cell_type": "code",
   "execution_count": null,
   "id": "65995838",
   "metadata": {},
   "outputs": [],
   "source": [
    "df_ALL_forecast['forecast'] = forecast_df['forecast'].values"
   ]
  },
  {
   "cell_type": "code",
   "execution_count": null,
   "id": "34ea4f26",
   "metadata": {},
   "outputs": [],
   "source": [
    "df_ALL_forecast"
   ]
  },
  {
   "cell_type": "code",
   "execution_count": null,
   "id": "0d1ad823",
   "metadata": {},
   "outputs": [],
   "source": [
    "df_ALL_forecast.plot()"
   ]
  }
 ],
 "metadata": {
  "kernelspec": {
   "display_name": "Python 3 (ipykernel)",
   "language": "python",
   "name": "python3"
  },
  "language_info": {
   "codemirror_mode": {
    "name": "ipython",
    "version": 3
   },
   "file_extension": ".py",
   "mimetype": "text/x-python",
   "name": "python",
   "nbconvert_exporter": "python",
   "pygments_lexer": "ipython3",
   "version": "3.9.12"
  }
 },
 "nbformat": 4,
 "nbformat_minor": 5
}
